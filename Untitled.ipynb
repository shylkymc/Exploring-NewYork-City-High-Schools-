{
 "cells": [
  {
   "cell_type": "markdown",
   "metadata": {},
   "source": [
    "# ANALYZING NYC HIGH SCHOOL DATA"
   ]
  },
  {
   "cell_type": "markdown",
   "metadata": {},
   "source": [
    "In this project our aim is cleaning and analyzing New York city High school database. We will use different seperate data sets to manage our project. Every year a lot of students take SAT exam to use it in their university application. And school quality and environmental factors can effect the students' success. If we analyze these seperate variables, we can understand the factors which effect the success of the student."
   ]
  },
  {
   "cell_type": "markdown",
   "metadata": {},
   "source": [
    "## Opening Data"
   ]
  },
  {
   "cell_type": "code",
   "execution_count": 1,
   "metadata": {},
   "outputs": [],
   "source": [
    "import pandas as pd\n",
    "data_files = [\n",
    "    \"ap_2010.csv\",\n",
    "    \"class_size.csv\",\n",
    "    \"demographics.csv\",\n",
    "    \"graduation.csv\",\n",
    "    \"hs_directory.csv\",\n",
    "    \"sat_results.csv\"\n",
    "]\n",
    "data={}\n",
    "for f in  data_files:\n",
    "    d=pd.read_csv(\"C:\\\\Users\\\\user\\\\Desktop\\\\projects\\\\dataquest projects\\\\project7\\\\/{0}\".format(f))\n",
    "    key_name= f.replace(\".csv\",\"\")\n",
    "    data[key_name]=d"
   ]
  },
  {
   "cell_type": "code",
   "execution_count": 2,
   "metadata": {},
   "outputs": [
    {
     "name": "stdout",
     "output_type": "stream",
     "text": [
      "      DBN                    SchoolName  AP Test Takers   Total Exams Taken  \\\n",
      "0  01M448  UNIVERSITY NEIGHBORHOOD H.S.             39.0               49.0   \n",
      "1  01M450        EAST SIDE COMMUNITY HS             19.0               21.0   \n",
      "\n",
      "   Number of Exams with scores 3 4 or 5  \n",
      "0                                  10.0  \n",
      "1                                   NaN  \n"
     ]
    }
   ],
   "source": [
    "print(data['ap_2010'].head(2)) #This data shows the Collage Board AP results of New York City for 2010"
   ]
  },
  {
   "cell_type": "code",
   "execution_count": 3,
   "metadata": {},
   "outputs": [
    {
     "name": "stdout",
     "output_type": "stream",
     "text": [
      "   CSD BOROUGH SCHOOL CODE                SCHOOL NAME GRADE  PROGRAM TYPE  \\\n",
      "0    1       M        M015  P.S. 015 Roberto Clemente     0K       GEN ED   \n",
      "1    1       M        M015  P.S. 015 Roberto Clemente     0K          CTT   \n",
      "\n",
      "  CORE SUBJECT (MS CORE and 9-12 ONLY) CORE COURSE (MS CORE and 9-12 ONLY)  \\\n",
      "0                                    -                                   -   \n",
      "1                                    -                                   -   \n",
      "\n",
      "  SERVICE CATEGORY(K-9* ONLY)  NUMBER OF STUDENTS / SEATS FILLED  \\\n",
      "0                           -                               19.0   \n",
      "1                           -                               21.0   \n",
      "\n",
      "   NUMBER OF SECTIONS  AVERAGE CLASS SIZE  SIZE OF SMALLEST CLASS  \\\n",
      "0                 1.0                19.0                    19.0   \n",
      "1                 1.0                21.0                    21.0   \n",
      "\n",
      "   SIZE OF LARGEST CLASS DATA SOURCE  SCHOOLWIDE PUPIL-TEACHER RATIO  \n",
      "0                   19.0         ATS                             NaN  \n",
      "1                   21.0         ATS                             NaN  \n"
     ]
    }
   ],
   "source": [
    "print(data[\"class_size\"].head(2)) # This data the average class sizes for each school"
   ]
  },
  {
   "cell_type": "code",
   "execution_count": 4,
   "metadata": {},
   "outputs": [
    {
     "name": "stdout",
     "output_type": "stream",
     "text": [
      "      DBN                       Name  schoolyear fl_percent  frl_percent  \\\n",
      "0  01M015  P.S. 015 ROBERTO CLEMENTE    20052006       89.4          NaN   \n",
      "1  01M015  P.S. 015 ROBERTO CLEMENTE    20062007       89.4          NaN   \n",
      "\n",
      "   total_enrollment prek   k grade1 grade2  ... black_num black_per  \\\n",
      "0               281   15  36     40     33  ...        74      26.3   \n",
      "1               243   15  29     39     38  ...        68      28.0   \n",
      "\n",
      "  hispanic_num hispanic_per white_num white_per male_num male_per female_num  \\\n",
      "0          189         67.3         5       1.8    158.0     56.2      123.0   \n",
      "1          153         63.0         4       1.6    140.0     57.6      103.0   \n",
      "\n",
      "  female_per  \n",
      "0       43.8  \n",
      "1       42.4  \n",
      "\n",
      "[2 rows x 38 columns]\n"
     ]
    }
   ],
   "source": [
    "print(data[\"demographics\"].head(2))# This data showa the public school student populations"
   ]
  },
  {
   "cell_type": "code",
   "execution_count": 5,
   "metadata": {},
   "outputs": [
    {
     "name": "stdout",
     "output_type": "stream",
     "text": [
      "    Demographic     DBN                            School Name Cohort  \\\n",
      "0  Total Cohort  01M292  HENRY STREET SCHOOL FOR INTERNATIONAL   2003   \n",
      "1  Total Cohort  01M292  HENRY STREET SCHOOL FOR INTERNATIONAL   2004   \n",
      "\n",
      "   Total Cohort Total Grads - n  Total Grads - % of cohort Total Regents - n  \\\n",
      "0             5               s                        NaN                 s   \n",
      "1            55              37                       67.3                17   \n",
      "\n",
      "   Total Regents - % of cohort  Total Regents - % of grads  ...  \\\n",
      "0                          NaN                         NaN  ...   \n",
      "1                         30.9                        45.9  ...   \n",
      "\n",
      "  Regents w/o Advanced - n  Regents w/o Advanced - % of cohort  \\\n",
      "0                        s                                 NaN   \n",
      "1                       17                                30.9   \n",
      "\n",
      "   Regents w/o Advanced - % of grads Local - n  Local - % of cohort  \\\n",
      "0                                NaN         s                  NaN   \n",
      "1                               45.9        20                 36.4   \n",
      "\n",
      "   Local - % of grads Still Enrolled - n  Still Enrolled - % of cohort  \\\n",
      "0                 NaN                  s                           NaN   \n",
      "1                54.1                 15                          27.3   \n",
      "\n",
      "   Dropped Out - n Dropped Out - % of cohort  \n",
      "0                s                       NaN  \n",
      "1                3                       5.5  \n",
      "\n",
      "[2 rows x 23 columns]\n"
     ]
    }
   ],
   "source": [
    "print(data[\"graduation\"].head(2)) #This data shows the graduation outcomes"
   ]
  },
  {
   "cell_type": "code",
   "execution_count": 6,
   "metadata": {},
   "outputs": [
    {
     "name": "stdout",
     "output_type": "stream",
     "text": [
      "      dbn                         school_name   borough building_code  \\\n",
      "0  21K540              John Dewey High School  Brooklyn          K540   \n",
      "1  15K429  Brooklyn School for Global Studies  Brooklyn          K293   \n",
      "\n",
      "   phone_number    fax_number  grade_span_min  grade_span_max  \\\n",
      "0  718-373-6400  718-266-4385             9.0              12   \n",
      "1  718-694-9741  718-694-9745             6.0              12   \n",
      "\n",
      "   expgrade_span_min  expgrade_span_max  ... priority08 priority09 priority10  \\\n",
      "0                NaN                NaN  ...        NaN        NaN        NaN   \n",
      "1                NaN                NaN  ...        NaN        NaN        NaN   \n",
      "\n",
      "                                          Location 1 Community Board  \\\n",
      "0  50 Avenue\\nX Brooklyn, NY 11223\\n(40.589238098...            13.0   \n",
      "1  284 Baltic Street\\nBrooklyn, NY 11201\\n(40.685...             6.0   \n",
      "\n",
      "   Council District Census Tract        BIN           BBL  \\\n",
      "0              47.0        308.0  3194998.0  3.071850e+09   \n",
      "1              33.0         69.0  3006401.0  3.004020e+09   \n",
      "\n",
      "                                                 NTA  \n",
      "0  Gravesend                                     ...  \n",
      "1  DUMBO-Vinegar Hill-Downtown Brooklyn-Boerum Hi...  \n",
      "\n",
      "[2 rows x 64 columns]\n"
     ]
    }
   ],
   "source": [
    "print(data[\"hs_directory\"].head(2)) #This data shows directories of the NYC high schools"
   ]
  },
  {
   "cell_type": "code",
   "execution_count": 7,
   "metadata": {},
   "outputs": [
    {
     "name": "stdout",
     "output_type": "stream",
     "text": [
      "      DBN                                    SCHOOL NAME  \\\n",
      "0  01M292  HENRY STREET SCHOOL FOR INTERNATIONAL STUDIES   \n",
      "1  01M448            UNIVERSITY NEIGHBORHOOD HIGH SCHOOL   \n",
      "\n",
      "  Num of SAT Test Takers SAT Critical Reading Avg. Score SAT Math Avg. Score  \\\n",
      "0                     29                             355                 404   \n",
      "1                     91                             383                 423   \n",
      "\n",
      "  SAT Writing Avg. Score  \n",
      "0                    363  \n",
      "1                    366  \n"
     ]
    }
   ],
   "source": [
    "print(data[\"sat_results\"].head(2)) # This data shows the school levels on the SAT exam"
   ]
  },
  {
   "cell_type": "markdown",
   "metadata": {},
   "source": [
    "We opened data in dictionary which was in .csv format, also we have another data which is in .txt format. Let's open this data:"
   ]
  },
  {
   "cell_type": "code",
   "execution_count": 8,
   "metadata": {},
   "outputs": [
    {
     "name": "stderr",
     "output_type": "stream",
     "text": [
      "C:\\Users\\user\\Anaconda3\\lib\\site-packages\\ipykernel_launcher.py:3: FutureWarning: Sorting because non-concatenation axis is not aligned. A future version\n",
      "of pandas will change to not sort by default.\n",
      "\n",
      "To accept the future behavior, pass 'sort=False'.\n",
      "\n",
      "To retain the current behavior and silence the warning, pass 'sort=True'.\n",
      "\n",
      "  This is separate from the ipykernel package so we can avoid doing imports until\n"
     ]
    },
    {
     "name": "stdout",
     "output_type": "stream",
     "text": [
      "     N_p  N_s   N_t  aca_p_11  aca_s_11  aca_t_11  aca_tot_11    bn  com_p_11  \\\n",
      "0   90.0  NaN  22.0       7.8       NaN       7.9         7.9  M015       7.6   \n",
      "1  161.0  NaN  34.0       7.8       NaN       9.1         8.4  M019       7.6   \n",
      "\n",
      "   com_s_11  ...  t_q8c_1  t_q8c_2  t_q8c_3 t_q8c_4  t_q9  t_q9_1  t_q9_2  \\\n",
      "0       NaN  ...     29.0     67.0      5.0     0.0   NaN     5.0    14.0   \n",
      "1       NaN  ...     74.0     21.0      6.0     0.0   NaN     3.0     6.0   \n",
      "\n",
      "   t_q9_3  t_q9_4  t_q9_5  \n",
      "0    52.0    24.0     5.0  \n",
      "1     3.0    78.0     9.0  \n",
      "\n",
      "[2 rows x 2773 columns]\n"
     ]
    }
   ],
   "source": [
    "all_survey= pd.read_csv(\"C:\\\\Users\\\\user\\\\Desktop\\\\projects\\\\dataquest projects\\\\project7\\\\2011_School_Survey\\\\2011 data files online\\\\survey_all.txt\",delimiter=\"\\t\", encoding=\"windows-1252\")\n",
    "d75_survey= pd.read_csv(\"C:\\\\Users\\\\user\\\\Desktop\\\\projects\\\\dataquest projects\\\\project7\\\\2011_School_Survey\\\\2011 data files online\\\\survey_d75.txt\",delimiter=\"\\t\", encoding=\"windows-1252\")\n",
    "survey= pd.concat( [all_survey,d75_survey],axis=0)\n",
    "print(survey.head(2))"
   ]
  },
  {
   "cell_type": "markdown",
   "metadata": {},
   "source": [
    "There are over 2000 columns in this data set, but we can not use all off these information in our project. Because they are useless for as. We have a [dictionary](https://data.cityofnewyork.us/api/views/mnz3-dyi8/files/aa68d821-4dbb-4eb2-9448-3d8cbbad5044?download=true&filename=Survey%20Data%20Dictionary.xls) that shows the columns mean, and we selected our columns by using the dictionary."
   ]
  },
  {
   "cell_type": "code",
   "execution_count": 9,
   "metadata": {},
   "outputs": [
    {
     "name": "stdout",
     "output_type": "stream",
     "text": [
      "      DBN  rr_s  rr_t  rr_p  N_s   N_t    N_p  saf_p_11  com_p_11  eng_p_11  \\\n",
      "0  01M015   NaN    88    60  NaN  22.0   90.0       8.5       7.6       7.5   \n",
      "1  01M019   NaN   100    60  NaN  34.0  161.0       8.4       7.6       7.6   \n",
      "\n",
      "   ...  eng_t_11  aca_t_11  saf_s_11  com_s_11  eng_s_11  aca_s_11  \\\n",
      "0  ...       7.6       7.9       NaN       NaN       NaN       NaN   \n",
      "1  ...       8.9       9.1       NaN       NaN       NaN       NaN   \n",
      "\n",
      "   saf_tot_11  com_tot_11  eng_tot_11  aca_tot_11  \n",
      "0         8.0         7.7         7.5         7.9  \n",
      "1         8.5         8.1         8.2         8.4  \n",
      "\n",
      "[2 rows x 23 columns]\n"
     ]
    }
   ],
   "source": [
    "survey[\"DBN\"]= survey[\"dbn\"]\n",
    "\n",
    "survey_fields=[\"DBN\", \"rr_s\", \"rr_t\", \"rr_p\", \"N_s\", \"N_t\", \"N_p\", \"saf_p_11\", \"com_p_11\", \n",
    "               \"eng_p_11\", \"aca_p_11\", \"saf_t_11\", \"com_t_11\", \"eng_t_11\", \"aca_t_11\", \"saf_s_11\", \n",
    "               \"com_s_11\", \"eng_s_11\", \"aca_s_11\", \"saf_tot_11\", \"com_tot_11\", \"eng_tot_11\", \"aca_tot_11\"]\n",
    "#We will use the columns which is in survey_fields list.\n",
    "\n",
    "survey=survey.loc[:,survey_fields]\n",
    "data[\"survey\"]= survey\n",
    "print(data[\"survey\"].head(2))"
   ]
  },
  {
   "cell_type": "markdown",
   "metadata": {},
   "source": [
    "Now the 'survey' shows the feelings of teachers, parents and students about schools."
   ]
  },
  {
   "cell_type": "markdown",
   "metadata": {},
   "source": [
    "## Exploring and Organizing the Data"
   ]
  },
  {
   "cell_type": "markdown",
   "metadata": {},
   "source": [
    "### Creating 'DBN' Column"
   ]
  },
  {
   "cell_type": "markdown",
   "metadata": {},
   "source": [
    "The data sets has 'DBN' columns that is helpful to specify the schools, however the 'hs_directory' data set has 'dbn' column. We can add another column that is named as 'DBN'. "
   ]
  },
  {
   "cell_type": "code",
   "execution_count": 10,
   "metadata": {},
   "outputs": [
    {
     "name": "stdout",
     "output_type": "stream",
     "text": [
      "      dbn             school_name   borough building_code  phone_number  \\\n",
      "0  21K540  John Dewey High School  Brooklyn          K540  718-373-6400   \n",
      "\n",
      "     fax_number  grade_span_min  grade_span_max  expgrade_span_min  \\\n",
      "0  718-266-4385             9.0              12                NaN   \n",
      "\n",
      "   expgrade_span_max  ... priority09 priority10  \\\n",
      "0                NaN  ...        NaN        NaN   \n",
      "\n",
      "                                          Location 1 Community Board  \\\n",
      "0  50 Avenue\\nX Brooklyn, NY 11223\\n(40.589238098...            13.0   \n",
      "\n",
      "  Council District  Census Tract        BIN           BBL  \\\n",
      "0             47.0         308.0  3194998.0  3.071850e+09   \n",
      "\n",
      "                                                 NTA     DBN  \n",
      "0  Gravesend                                     ...  21K540  \n",
      "\n",
      "[1 rows x 65 columns]\n"
     ]
    }
   ],
   "source": [
    "data[\"hs_directory\"][\"DBN\"]= data[\"hs_directory\"][\"dbn\"]\n",
    "print(data[\"hs_directory\"].head(1))"
   ]
  },
  {
   "cell_type": "markdown",
   "metadata": {},
   "source": [
    "Additionally, the 'class_size' data set does not have the 'DBN' column. And we need this column to maintain our process. When we try to explore 'class_size' data set, we can see that the information to obtain 'DBN' column are in the 'class_size' data set. "
   ]
  },
  {
   "cell_type": "code",
   "execution_count": 11,
   "metadata": {},
   "outputs": [
    {
     "name": "stdout",
     "output_type": "stream",
     "text": [
      "   CSD BOROUGH SCHOOL CODE                SCHOOL NAME GRADE  PROGRAM TYPE  \\\n",
      "0    1       M        M015  P.S. 015 Roberto Clemente     0K       GEN ED   \n",
      "\n",
      "  CORE SUBJECT (MS CORE and 9-12 ONLY) CORE COURSE (MS CORE and 9-12 ONLY)  \\\n",
      "0                                    -                                   -   \n",
      "\n",
      "  SERVICE CATEGORY(K-9* ONLY)  NUMBER OF STUDENTS / SEATS FILLED  \\\n",
      "0                           -                               19.0   \n",
      "\n",
      "   NUMBER OF SECTIONS  AVERAGE CLASS SIZE  SIZE OF SMALLEST CLASS  \\\n",
      "0                 1.0                19.0                    19.0   \n",
      "\n",
      "   SIZE OF LARGEST CLASS DATA SOURCE  SCHOOLWIDE PUPIL-TEACHER RATIO  \n",
      "0                   19.0         ATS                             NaN  \n"
     ]
    }
   ],
   "source": [
    "print(data[\"class_size\"].head(1))"
   ]
  },
  {
   "cell_type": "markdown",
   "metadata": {},
   "source": [
    "The 'DBN' column can be obtained by combinig the 'CSD' and 'SCHOOL CODE' in the 'class_size' data set. However, the 'CSD' column must have two digit values. Let's create a 'DBN' column in the 'class_size' data set."
   ]
  },
  {
   "cell_type": "code",
   "execution_count": 12,
   "metadata": {},
   "outputs": [],
   "source": [
    "# To make the values two digit in the 'CSD' column.\n",
    "def filling(value):\n",
    "    a=str(value)\n",
    "    b=len(a)\n",
    "    if b==2:\n",
    "        return a\n",
    "    elif b==1:\n",
    "        return a.zfill(2)\n",
    "    \n",
    "    \n",
    "data[\"class_size\"][\"padded_csd\"]= data[\"class_size\"][\"CSD\"].apply(filling)"
   ]
  },
  {
   "cell_type": "code",
   "execution_count": 13,
   "metadata": {},
   "outputs": [
    {
     "name": "stdout",
     "output_type": "stream",
     "text": [
      "0    01M015\n",
      "1    01M015\n",
      "2    01M015\n",
      "3    01M015\n",
      "4    01M015\n",
      "Name: DBN, dtype: object\n"
     ]
    }
   ],
   "source": [
    "#To create 'DBN' column\n",
    "data[\"class_size\"][\"DBN\"]= data[\"class_size\"][\"padded_csd\"]+ data[\"class_size\"][\"SCHOOL CODE\"]\n",
    "print(data[\"class_size\"][\"DBN\"].head())"
   ]
  },
  {
   "cell_type": "markdown",
   "metadata": {},
   "source": [
    "### Obtaining Total SAT Scores"
   ]
  },
  {
   "cell_type": "markdown",
   "metadata": {},
   "source": [
    "The other obstacle is in the 'sat_results' data set. The scores are seperated as math, reading and writing, but total of these values is more useful for us."
   ]
  },
  {
   "cell_type": "code",
   "execution_count": 14,
   "metadata": {},
   "outputs": [
    {
     "name": "stdout",
     "output_type": "stream",
     "text": [
      "      DBN                                    SCHOOL NAME  \\\n",
      "0  01M292  HENRY STREET SCHOOL FOR INTERNATIONAL STUDIES   \n",
      "1  01M448            UNIVERSITY NEIGHBORHOOD HIGH SCHOOL   \n",
      "2  01M450                     EAST SIDE COMMUNITY SCHOOL   \n",
      "3  01M458                      FORSYTH SATELLITE ACADEMY   \n",
      "4  01M509                        MARTA VALLE HIGH SCHOOL   \n",
      "\n",
      "  Num of SAT Test Takers SAT Critical Reading Avg. Score SAT Math Avg. Score  \\\n",
      "0                     29                             355                 404   \n",
      "1                     91                             383                 423   \n",
      "2                     70                             377                 402   \n",
      "3                      7                             414                 401   \n",
      "4                     44                             390                 433   \n",
      "\n",
      "  SAT Writing Avg. Score  \n",
      "0                    363  \n",
      "1                    366  \n",
      "2                    370  \n",
      "3                    359  \n",
      "4                    384  \n"
     ]
    }
   ],
   "source": [
    "print(data[\"sat_results\"].head())"
   ]
  },
  {
   "cell_type": "code",
   "execution_count": 15,
   "metadata": {},
   "outputs": [
    {
     "name": "stdout",
     "output_type": "stream",
     "text": [
      "<class 'pandas.core.frame.DataFrame'>\n",
      "RangeIndex: 478 entries, 0 to 477\n",
      "Data columns (total 6 columns):\n",
      "DBN                                478 non-null object\n",
      "SCHOOL NAME                        478 non-null object\n",
      "Num of SAT Test Takers             478 non-null object\n",
      "SAT Critical Reading Avg. Score    421 non-null float64\n",
      "SAT Math Avg. Score                421 non-null float64\n",
      "SAT Writing Avg. Score             421 non-null float64\n",
      "dtypes: float64(3), object(3)\n",
      "memory usage: 22.5+ KB\n"
     ]
    }
   ],
   "source": [
    "cols=[\"SAT Math Avg. Score\",\"SAT Critical Reading Avg. Score\", \"SAT Writing Avg. Score\"]\n",
    "\n",
    "for c in cols:\n",
    "    data[\"sat_results\"][c]= pd.to_numeric(data[\"sat_results\"][c],errors='coerce')\n",
    "    \n",
    "    \n",
    "data[\"sat_results\"].info()    \n",
    "   \n",
    "    \n"
   ]
  },
  {
   "cell_type": "code",
   "execution_count": 16,
   "metadata": {},
   "outputs": [
    {
     "name": "stdout",
     "output_type": "stream",
     "text": [
      "0    404.0\n",
      "1    423.0\n",
      "2    402.0\n",
      "3    401.0\n",
      "4    433.0\n",
      "Name: sat_score, dtype: float64\n"
     ]
    }
   ],
   "source": [
    "data['sat_results']['sat_score'] = data['sat_results'][cols[0]] \n",
    "+ data['sat_results'][cols[1]] + data['sat_results'][cols[2]]\n",
    "\n",
    "print(data['sat_results']['sat_score'].head())"
   ]
  },
  {
   "cell_type": "markdown",
   "metadata": {},
   "source": [
    "### Organizing Location Data"
   ]
  },
  {
   "cell_type": "markdown",
   "metadata": {},
   "source": [
    "To map the schools and uncover the geographic patterns, we need to parse longitude and latitude coordinates for each school which are in the 'hs_directory' data set."
   ]
  },
  {
   "cell_type": "code",
   "execution_count": 17,
   "metadata": {},
   "outputs": [
    {
     "name": "stdout",
     "output_type": "stream",
     "text": [
      "<class 'pandas.core.frame.DataFrame'>\n",
      "RangeIndex: 435 entries, 0 to 434\n",
      "Data columns (total 65 columns):\n",
      "dbn                                 435 non-null object\n",
      "school_name                         435 non-null object\n",
      "borough                             435 non-null object\n",
      "building_code                       435 non-null object\n",
      "phone_number                        435 non-null object\n",
      "fax_number                          423 non-null object\n",
      "grade_span_min                      432 non-null float64\n",
      "grade_span_max                      435 non-null int64\n",
      "expgrade_span_min                   31 non-null float64\n",
      "expgrade_span_max                   33 non-null float64\n",
      "bus                                 434 non-null object\n",
      "subway                              358 non-null object\n",
      "primary_address_line_1              435 non-null object\n",
      "city                                435 non-null object\n",
      "state_code                          435 non-null object\n",
      "postcode                            435 non-null int64\n",
      "website                             430 non-null object\n",
      "total_students                      426 non-null float64\n",
      "campus_name                         217 non-null object\n",
      "school_type                         104 non-null object\n",
      "overview_paragraph                  434 non-null object\n",
      "program_highlights                  434 non-null object\n",
      "language_classes                    412 non-null object\n",
      "advancedplacement_courses           340 non-null object\n",
      "online_ap_courses                   64 non-null object\n",
      "online_language_courses             73 non-null object\n",
      "extracurricular_activities          435 non-null object\n",
      "psal_sports_boys                    373 non-null object\n",
      "psal_sports_girls                   373 non-null object\n",
      "psal_sports_coed                    147 non-null object\n",
      "school_sports                       297 non-null object\n",
      "partner_cbo                         354 non-null object\n",
      "partner_hospital                    196 non-null object\n",
      "partner_highered                    378 non-null object\n",
      "partner_cultural                    305 non-null object\n",
      "partner_nonprofit                   297 non-null object\n",
      "partner_corporate                   198 non-null object\n",
      "partner_financial                   72 non-null object\n",
      "partner_other                       188 non-null object\n",
      "addtl_info1                         354 non-null object\n",
      "addtl_info2                         229 non-null object\n",
      "start_time                          431 non-null object\n",
      "end_time                            431 non-null object\n",
      "se_services                         435 non-null object\n",
      "ell_programs                        435 non-null object\n",
      "school_accessibility_description    435 non-null object\n",
      "number_programs                     435 non-null int64\n",
      "priority01                          435 non-null object\n",
      "priority02                          352 non-null object\n",
      "priority03                          243 non-null object\n",
      "priority04                          177 non-null object\n",
      "priority05                          39 non-null object\n",
      "priority06                          17 non-null object\n",
      "priority07                          4 non-null object\n",
      "priority08                          1 non-null object\n",
      "priority09                          1 non-null object\n",
      "priority10                          1 non-null object\n",
      "Location 1                          435 non-null object\n",
      "Community Board                     432 non-null float64\n",
      "Council District                    432 non-null float64\n",
      "Census Tract                        432 non-null float64\n",
      "BIN                                 431 non-null float64\n",
      "BBL                                 431 non-null float64\n",
      "NTA                                 432 non-null object\n",
      "DBN                                 435 non-null object\n",
      "dtypes: float64(9), int64(3), object(53)\n",
      "memory usage: 221.0+ KB\n",
      "None\n"
     ]
    }
   ],
   "source": [
    "print(data[\"hs_directory\"].info())"
   ]
  },
  {
   "cell_type": "code",
   "execution_count": 18,
   "metadata": {},
   "outputs": [
    {
     "name": "stdout",
     "output_type": "stream",
     "text": [
      "      dbn                         school_name   borough building_code  \\\n",
      "0  21K540              John Dewey High School  Brooklyn          K540   \n",
      "1  15K429  Brooklyn School for Global Studies  Brooklyn          K293   \n",
      "\n",
      "   phone_number    fax_number  grade_span_min  grade_span_max  \\\n",
      "0  718-373-6400  718-266-4385             9.0              12   \n",
      "1  718-694-9741  718-694-9745             6.0              12   \n",
      "\n",
      "   expgrade_span_min  expgrade_span_max  ... priority10  \\\n",
      "0                NaN                NaN  ...        NaN   \n",
      "1                NaN                NaN  ...        NaN   \n",
      "\n",
      "                                          Location 1 Community Board  \\\n",
      "0  50 Avenue\\nX Brooklyn, NY 11223\\n(40.589238098...            13.0   \n",
      "1  284 Baltic Street\\nBrooklyn, NY 11201\\n(40.685...             6.0   \n",
      "\n",
      "  Council District Census Tract        BIN           BBL  \\\n",
      "0             47.0        308.0  3194998.0  3.071850e+09   \n",
      "1             33.0         69.0  3006401.0  3.004020e+09   \n",
      "\n",
      "                                                 NTA     DBN           lat  \n",
      "0  Gravesend                                     ...  21K540  40.589238098  \n",
      "1  DUMBO-Vinegar Hill-Downtown Brooklyn-Boerum Hi...  15K429  40.685451806  \n",
      "\n",
      "[2 rows x 66 columns]\n"
     ]
    }
   ],
   "source": [
    "import re\n",
    "\n",
    "def find_lat(loc): #Function to get latitude\n",
    "    coords= re.findall(\"\\(.+\\)\",loc)\n",
    "    lat= coords[0].split(\",\")[0].replace(\"(\",\"\")\n",
    "    return lat\n",
    "data[\"hs_directory\"][\"lat\"]= data[\"hs_directory\"][\"Location 1\"].apply(find_lat)\n",
    "\n",
    "print(data[\"hs_directory\"].head(2))"
   ]
  },
  {
   "cell_type": "code",
   "execution_count": 19,
   "metadata": {},
   "outputs": [],
   "source": [
    "def find_lon(loc): # Function to get longitude\n",
    "    coords=re.findall(\"\\(.+\\)\",loc)\n",
    "    lon= coords[0].split(\",\")[1].replace(\")\",\"\").strip()\n",
    "    return lon\n",
    "    \n",
    "data[\"hs_directory\"][\"lon\"]= data[\"hs_directory\"][\"Location 1\"].apply(find_lon)\n"
   ]
  },
  {
   "cell_type": "code",
   "execution_count": 20,
   "metadata": {},
   "outputs": [
    {
     "name": "stdout",
     "output_type": "stream",
     "text": [
      "      dbn                         school_name   borough building_code  \\\n",
      "0  21K540              John Dewey High School  Brooklyn          K540   \n",
      "1  15K429  Brooklyn School for Global Studies  Brooklyn          K293   \n",
      "\n",
      "   phone_number    fax_number  grade_span_min  grade_span_max  \\\n",
      "0  718-373-6400  718-266-4385             9.0              12   \n",
      "1  718-694-9741  718-694-9745             6.0              12   \n",
      "\n",
      "   expgrade_span_min  expgrade_span_max  ...  \\\n",
      "0                NaN                NaN  ...   \n",
      "1                NaN                NaN  ...   \n",
      "\n",
      "                                          Location 1 Community Board  \\\n",
      "0  50 Avenue\\nX Brooklyn, NY 11223\\n(40.589238098...            13.0   \n",
      "1  284 Baltic Street\\nBrooklyn, NY 11201\\n(40.685...             6.0   \n",
      "\n",
      "  Council District Census Tract        BIN           BBL  \\\n",
      "0             47.0        308.0  3194998.0  3.071850e+09   \n",
      "1             33.0         69.0  3006401.0  3.004020e+09   \n",
      "\n",
      "                                                 NTA     DBN        lat  \\\n",
      "0  Gravesend                                     ...  21K540  40.589238   \n",
      "1  DUMBO-Vinegar Hill-Downtown Brooklyn-Boerum Hi...  15K429  40.685452   \n",
      "\n",
      "         lon  \n",
      "0 -73.981747  \n",
      "1 -73.993491  \n",
      "\n",
      "[2 rows x 67 columns]\n"
     ]
    }
   ],
   "source": [
    "data[\"hs_directory\"][\"lat\"]= pd.to_numeric(data[\"hs_directory\"][\"lat\"],errors=\"coerce\")\n",
    "data[\"hs_directory\"][\"lon\"]= pd.to_numeric(data[\"hs_directory\"][\"lon\"],errors=\"coerce\")\n",
    "\n",
    "print(data[\"hs_directory\"].head(2))"
   ]
  },
  {
   "cell_type": "markdown",
   "metadata": {},
   "source": [
    "## Combining the Data"
   ]
  },
  {
   "cell_type": "markdown",
   "metadata": {},
   "source": [
    "There are duplicate school names in 'class_size' data, because the schools have different programs. We will select only one type of program to make easy to our analyze. We will select 'general education' and 'high schools'."
   ]
  },
  {
   "cell_type": "code",
   "execution_count": 21,
   "metadata": {},
   "outputs": [
    {
     "name": "stdout",
     "output_type": "stream",
     "text": [
      "     CSD BOROUGH SCHOOL CODE                                    SCHOOL NAME  \\\n",
      "225    1       M        M292  Henry Street School for International Studies   \n",
      "226    1       M        M292  Henry Street School for International Studies   \n",
      "\n",
      "    GRADE  PROGRAM TYPE CORE SUBJECT (MS CORE and 9-12 ONLY)  \\\n",
      "225  09-12       GEN ED                              ENGLISH   \n",
      "226  09-12       GEN ED                              ENGLISH   \n",
      "\n",
      "    CORE COURSE (MS CORE and 9-12 ONLY) SERVICE CATEGORY(K-9* ONLY)  \\\n",
      "225                           English 9                           -   \n",
      "226                          English 10                           -   \n",
      "\n",
      "     NUMBER OF STUDENTS / SEATS FILLED  NUMBER OF SECTIONS  \\\n",
      "225                               63.0                 3.0   \n",
      "226                               79.0                 3.0   \n",
      "\n",
      "     AVERAGE CLASS SIZE  SIZE OF SMALLEST CLASS  SIZE OF LARGEST CLASS  \\\n",
      "225                21.0                    19.0                   25.0   \n",
      "226                26.3                    24.0                   31.0   \n",
      "\n",
      "    DATA SOURCE  SCHOOLWIDE PUPIL-TEACHER RATIO padded_csd     DBN  \n",
      "225       STARS                             NaN         01  01M292  \n",
      "226       STARS                             NaN         01  01M292  \n"
     ]
    }
   ],
   "source": [
    "class_size= data[\"class_size\"]\n",
    "class_size= class_size[class_size[\"GRADE \"]==\"09-12\"]\n",
    "class_size= class_size[class_size[\"PROGRAM TYPE\"]== \"GEN ED\"]\n",
    "print(class_size.head(2))\n"
   ]
  },
  {
   "cell_type": "markdown",
   "metadata": {},
   "source": [
    "Our data has duplicate values anymore. Because we did not seperate the different classes. "
   ]
  },
  {
   "cell_type": "code",
   "execution_count": 22,
   "metadata": {},
   "outputs": [
    {
     "name": "stdout",
     "output_type": "stream",
     "text": [
      "      DBN  CSD  NUMBER OF STUDENTS / SEATS FILLED  NUMBER OF SECTIONS  \\\n",
      "0  01M292    1                            88.0000            4.000000   \n",
      "1  01M332    1                            46.0000            2.000000   \n",
      "2  01M378    1                            33.0000            1.000000   \n",
      "3  01M448    1                           105.6875            4.750000   \n",
      "4  01M450    1                            57.6000            2.733333   \n",
      "\n",
      "   AVERAGE CLASS SIZE  SIZE OF SMALLEST CLASS  SIZE OF LARGEST CLASS  \\\n",
      "0           22.564286                   18.50              26.571429   \n",
      "1           22.000000                   21.00              23.500000   \n",
      "2           33.000000                   33.00              33.000000   \n",
      "3           22.231250                   18.25              27.062500   \n",
      "4           21.200000                   19.40              22.866667   \n",
      "\n",
      "   SCHOOLWIDE PUPIL-TEACHER RATIO  \n",
      "0                             NaN  \n",
      "1                             NaN  \n",
      "2                             NaN  \n",
      "3                             NaN  \n",
      "4                             NaN  \n"
     ]
    }
   ],
   "source": [
    "import numpy\n",
    "\n",
    "class_size= class_size.groupby(\"DBN\").agg(numpy.mean)\n",
    "class_size.reset_index(inplace= True)\n",
    "data[\"class_size\"]=class_size\n",
    "\n",
    "print(data[\"class_size\"].head())"
   ]
  },
  {
   "cell_type": "markdown",
   "metadata": {},
   "source": [
    "We need only the 2012 year's sat scores. However, there are scores from other years in the 'demographics' data set."
   ]
  },
  {
   "cell_type": "code",
   "execution_count": 23,
   "metadata": {},
   "outputs": [
    {
     "name": "stdout",
     "output_type": "stream",
     "text": [
      "       DBN                                              Name  schoolyear  \\\n",
      "6   01M015  P.S. 015 ROBERTO CLEMENTE                           20112012   \n",
      "13  01M019  P.S. 019 ASHER LEVY                                 20112012   \n",
      "20  01M020  PS 020 ANNA SILVER                                  20112012   \n",
      "27  01M034  PS 034 FRANKLIN D ROOSEVELT                         20112012   \n",
      "35  01M063  PS 063 WILLIAM MCKINLEY                             20112012   \n",
      "\n",
      "   fl_percent  frl_percent  total_enrollment prek    k grade1 grade2  ...  \\\n",
      "6         NaN         89.4               189   13   31     35     28  ...   \n",
      "13        NaN         61.5               328   32   46     52     54  ...   \n",
      "20        NaN         92.5               626   52  102    121     87  ...   \n",
      "27        NaN         99.7               401   14   34     38     36  ...   \n",
      "35        NaN         78.9               176   18   20     30     21  ...   \n",
      "\n",
      "   black_num black_per hispanic_num hispanic_per white_num white_per male_num  \\\n",
      "6         63      33.3          109         57.7         4       2.1     97.0   \n",
      "13        81      24.7          158         48.2        28       8.5    147.0   \n",
      "20        55       8.8          357         57.0        16       2.6    330.0   \n",
      "27        90      22.4          275         68.6         8       2.0    204.0   \n",
      "35        41      23.3          110         62.5        15       8.5     97.0   \n",
      "\n",
      "   male_per female_num female_per  \n",
      "6      51.3       92.0       48.7  \n",
      "13     44.8      181.0       55.2  \n",
      "20     52.7      296.0       47.3  \n",
      "27     50.9      197.0       49.1  \n",
      "35     55.1       79.0       44.9  \n",
      "\n",
      "[5 rows x 38 columns]\n"
     ]
    }
   ],
   "source": [
    "# To obtain 2012 year's sat scores.\n",
    "data[\"demographics\"]= data[\"demographics\"][data[\"demographics\"][\"schoolyear\"]==20112012]\n",
    "print(data[\"demographics\"].head())"
   ]
  },
  {
   "cell_type": "markdown",
   "metadata": {},
   "source": [
    "In the 'graduation' data set, we want to pick only the '2006' values in the 'Cohort' column and 'Total Cohort' values in the 'Demographic' column."
   ]
  },
  {
   "cell_type": "code",
   "execution_count": 24,
   "metadata": {},
   "outputs": [
    {
     "name": "stdout",
     "output_type": "stream",
     "text": [
      "     Demographic     DBN                            School Name Cohort  \\\n",
      "3   Total Cohort  01M292  HENRY STREET SCHOOL FOR INTERNATIONAL   2006   \n",
      "10  Total Cohort  01M448    UNIVERSITY NEIGHBORHOOD HIGH SCHOOL   2006   \n",
      "\n",
      "    Total Cohort Total Grads - n  Total Grads - % of cohort Total Regents - n  \\\n",
      "3             78              43                       55.1                36   \n",
      "10           124              53                       42.7                42   \n",
      "\n",
      "    Total Regents - % of cohort  Total Regents - % of grads  ...  \\\n",
      "3                          46.2                        83.7  ...   \n",
      "10                         33.9                        79.2  ...   \n",
      "\n",
      "   Regents w/o Advanced - n  Regents w/o Advanced - % of cohort  \\\n",
      "3                        36                                46.2   \n",
      "10                       34                                27.4   \n",
      "\n",
      "    Regents w/o Advanced - % of grads Local - n  Local - % of cohort  \\\n",
      "3                                83.7         7                  9.0   \n",
      "10                               64.2        11                  8.9   \n",
      "\n",
      "    Local - % of grads Still Enrolled - n  Still Enrolled - % of cohort  \\\n",
      "3                 16.3                 16                          20.5   \n",
      "10                20.8                 46                          37.1   \n",
      "\n",
      "    Dropped Out - n Dropped Out - % of cohort  \n",
      "3                11                      14.1  \n",
      "10               20                      16.1  \n",
      "\n",
      "[2 rows x 23 columns]\n"
     ]
    }
   ],
   "source": [
    "data[\"graduation\"]= data[\"graduation\"][data[\"graduation\"][\"Cohort\"]== \"2006\"]\n",
    "data[\"graduation\"]= data[\"graduation\"][data[\"graduation\"][\"Demographic\"]== \"Total Cohort\"]\n",
    "print(data[\"graduation\"].head(2))"
   ]
  },
  {
   "cell_type": "markdown",
   "metadata": {},
   "source": [
    "Before starting to combine data set, we have a last step. We must convert the AP test scores from string to numeric in the 'ap_2010' data set."
   ]
  },
  {
   "cell_type": "code",
   "execution_count": 25,
   "metadata": {},
   "outputs": [
    {
     "name": "stdout",
     "output_type": "stream",
     "text": [
      "DBN                                      object\n",
      "SchoolName                               object\n",
      "AP Test Takers                          float64\n",
      "Total Exams Taken                       float64\n",
      "Number of Exams with scores 3 4 or 5    float64\n",
      "dtype: object\n"
     ]
    }
   ],
   "source": [
    "cols = ['AP Test Takers ', 'Total Exams Taken', 'Number of Exams with scores 3 4 or 5']\n",
    "for c in cols:\n",
    "    data[\"ap_2010\"][c]=pd.to_numeric(data[\"ap_2010\"][c],errors=\"coerce\")\n",
    "    \n",
    "print(data[\"ap_2010\"].dtypes)"
   ]
  },
  {
   "cell_type": "markdown",
   "metadata": {},
   "source": [
    "Now, our data sets are ready to combine. Let's combine them."
   ]
  },
  {
   "cell_type": "code",
   "execution_count": 26,
   "metadata": {},
   "outputs": [
    {
     "name": "stdout",
     "output_type": "stream",
     "text": [
      "      DBN                                    SCHOOL NAME  \\\n",
      "0  01M292  HENRY STREET SCHOOL FOR INTERNATIONAL STUDIES   \n",
      "1  01M448            UNIVERSITY NEIGHBORHOOD HIGH SCHOOL   \n",
      "\n",
      "  Num of SAT Test Takers  SAT Critical Reading Avg. Score  \\\n",
      "0                     29                            355.0   \n",
      "1                     91                            383.0   \n",
      "\n",
      "   SAT Math Avg. Score  SAT Writing Avg. Score  sat_score  \\\n",
      "0                404.0                   363.0      404.0   \n",
      "1                423.0                   366.0      423.0   \n",
      "\n",
      "                     SchoolName  AP Test Takers   Total Exams Taken  ...  \\\n",
      "0                           NaN              NaN                NaN  ...   \n",
      "1  UNIVERSITY NEIGHBORHOOD H.S.             39.0               49.0  ...   \n",
      "\n",
      "   Regents w/o Advanced - n Regents w/o Advanced - % of cohort  \\\n",
      "0                        36                               46.2   \n",
      "1                        34                               27.4   \n",
      "\n",
      "  Regents w/o Advanced - % of grads Local - n  Local - % of cohort  \\\n",
      "0                              83.7         7                  9.0   \n",
      "1                              64.2        11                  8.9   \n",
      "\n",
      "  Local - % of grads  Still Enrolled - n Still Enrolled - % of cohort  \\\n",
      "0               16.3                  16                         20.5   \n",
      "1               20.8                  46                         37.1   \n",
      "\n",
      "   Dropped Out - n  Dropped Out - % of cohort  \n",
      "0               11                       14.1  \n",
      "1               20                       16.1  \n",
      "\n",
      "[2 rows x 33 columns]\n",
      "\n",
      "\n",
      "Number of columns and entries:\n",
      "(479, 33)\n"
     ]
    }
   ],
   "source": [
    "combined= data[\"sat_results\"]\n",
    "combined= combined.merge(data[\"ap_2010\"], on=\"DBN\", how=\"left\")\n",
    "combined= combined.merge(data[\"graduation\"], on=\"DBN\", how=\"left\")\n",
    "print(combined.head(2))\n",
    "print(\"\\n\")\n",
    "print(\"Number of columns and entries:\")\n",
    "print(combined.shape)"
   ]
  },
  {
   "cell_type": "code",
   "execution_count": 27,
   "metadata": {},
   "outputs": [
    {
     "name": "stdout",
     "output_type": "stream",
     "text": [
      "      DBN                                    SCHOOL NAME  \\\n",
      "0  01M292  HENRY STREET SCHOOL FOR INTERNATIONAL STUDIES   \n",
      "1  01M448            UNIVERSITY NEIGHBORHOOD HIGH SCHOOL   \n",
      "\n",
      "  Num of SAT Test Takers  SAT Critical Reading Avg. Score  \\\n",
      "0                     29                            355.0   \n",
      "1                     91                            383.0   \n",
      "\n",
      "   SAT Math Avg. Score  SAT Writing Avg. Score  sat_score  \\\n",
      "0                404.0                   363.0      404.0   \n",
      "1                423.0                   366.0      423.0   \n",
      "\n",
      "                     SchoolName  AP Test Takers   Total Exams Taken  ...  \\\n",
      "0                           NaN              NaN                NaN  ...   \n",
      "1  UNIVERSITY NEIGHBORHOOD H.S.             39.0               49.0  ...   \n",
      "\n",
      "   priority10                                         Location 1  \\\n",
      "0         NaN  220 Henry Street\\nNew York, NY 10002\\n(40.7137...   \n",
      "1         NaN  200 Monroe Street\\nNew York, NY 10002\\n(40.712...   \n",
      "\n",
      "  Community Board Council District  Census Tract        BIN           BBL  \\\n",
      "0             3.0              1.0         201.0  1003223.0  1.002690e+09   \n",
      "1             3.0              1.0         202.0  1003214.0  1.002590e+09   \n",
      "\n",
      "                                                 NTA        lat        lon  \n",
      "0  Lower East Side                               ...  40.713764 -73.985260  \n",
      "1  Lower East Side                               ...  40.712332 -73.984797  \n",
      "\n",
      "[2 rows x 165 columns]\n",
      "\n",
      "\n",
      "Number of columns and entries:\n",
      "(363, 165)\n"
     ]
    }
   ],
   "source": [
    "to_merge= [\"class_size\", \"demographics\", \"survey\", \"hs_directory\"]\n",
    "for m in to_merge:\n",
    "    combined= combined.merge(data[m], on=\"DBN\", how=\"inner\")\n",
    "    \n",
    "print(combined.head(2))\n",
    "print(\"\\n\")\n",
    "print(\"Number of columns and entries:\")\n",
    "print(combined.shape)"
   ]
  },
  {
   "cell_type": "code",
   "execution_count": 28,
   "metadata": {},
   "outputs": [
    {
     "name": "stdout",
     "output_type": "stream",
     "text": [
      "      DBN                                    SCHOOL NAME  \\\n",
      "0  01M292  HENRY STREET SCHOOL FOR INTERNATIONAL STUDIES   \n",
      "1  01M448            UNIVERSITY NEIGHBORHOOD HIGH SCHOOL   \n",
      "\n",
      "  Num of SAT Test Takers  SAT Critical Reading Avg. Score  \\\n",
      "0                     29                            355.0   \n",
      "1                     91                            383.0   \n",
      "\n",
      "   SAT Math Avg. Score  SAT Writing Avg. Score  sat_score  \\\n",
      "0                404.0                   363.0      404.0   \n",
      "1                423.0                   366.0      423.0   \n",
      "\n",
      "                     SchoolName  AP Test Takers   Total Exams Taken  ...  \\\n",
      "0                             0       129.028846         197.038462  ...   \n",
      "1  UNIVERSITY NEIGHBORHOOD H.S.        39.000000          49.000000  ...   \n",
      "\n",
      "   priority10                                         Location 1  \\\n",
      "0           0  220 Henry Street\\nNew York, NY 10002\\n(40.7137...   \n",
      "1           0  200 Monroe Street\\nNew York, NY 10002\\n(40.712...   \n",
      "\n",
      "  Community Board Council District  Census Tract        BIN           BBL  \\\n",
      "0             3.0              1.0         201.0  1003223.0  1.002690e+09   \n",
      "1             3.0              1.0         202.0  1003214.0  1.002590e+09   \n",
      "\n",
      "                                                 NTA        lat        lon  \n",
      "0  Lower East Side                               ...  40.713764 -73.985260  \n",
      "1  Lower East Side                               ...  40.712332 -73.984797  \n",
      "\n",
      "[2 rows x 165 columns]\n"
     ]
    }
   ],
   "source": [
    "# We must fill the miising values\n",
    "aa=combined.mean()\n",
    "combined=combined.fillna(aa)\n",
    "combined=combined.fillna(0)\n",
    "print(combined.head(2))"
   ]
  },
  {
   "cell_type": "code",
   "execution_count": 29,
   "metadata": {},
   "outputs": [
    {
     "name": "stdout",
     "output_type": "stream",
     "text": [
      "0    01\n",
      "1    01\n",
      "2    01\n",
      "3    01\n",
      "4    01\n",
      "Name: school_dist, dtype: object\n"
     ]
    }
   ],
   "source": [
    "def first_two(value): # We can obtain school district column by using the first two characters of the 'DBN' column.\n",
    "    return value[0:2]\n",
    "    \n",
    "combined[\"school_dist\"]= combined[\"DBN\"].apply(first_two)\n",
    "print(combined[\"school_dist\"].head())"
   ]
  },
  {
   "cell_type": "markdown",
   "metadata": {},
   "source": [
    "## Analyzing and Visualizing the Data"
   ]
  },
  {
   "cell_type": "markdown",
   "metadata": {},
   "source": [
    "Let's take a look on correlation of data."
   ]
  },
  {
   "cell_type": "code",
   "execution_count": 30,
   "metadata": {},
   "outputs": [
    {
     "name": "stdout",
     "output_type": "stream",
     "text": [
      "SAT Critical Reading Avg. Score         0.929221\n",
      "SAT Math Avg. Score                     1.000000\n",
      "SAT Writing Avg. Score                  0.931385\n",
      "sat_score                               1.000000\n",
      "AP Test Takers                          0.545646\n",
      "Total Exams Taken                       0.533239\n",
      "Number of Exams with scores 3 4 or 5    0.469456\n",
      "Total Cohort                            0.379012\n",
      "Total Grads - % of cohort               0.541928\n",
      "Total Regents - % of cohort             0.637366\n",
      "Total Regents - % of grads              0.493911\n",
      "Advanced Regents - % of cohort          0.790755\n",
      "Advanced Regents - % of grads           0.770262\n",
      "Regents w/o Advanced - % of cohort     -0.198539\n",
      "Regents w/o Advanced - % of grads      -0.490914\n",
      "Local - % of cohort                    -0.475013\n",
      "Local - % of grads                     -0.493911\n",
      "Still Enrolled - % of cohort           -0.451741\n",
      "Dropped Out - % of cohort              -0.427980\n",
      "CSD                                     0.078078\n",
      "NUMBER OF STUDENTS / SEATS FILLED       0.444985\n",
      "NUMBER OF SECTIONS                      0.417409\n",
      "AVERAGE CLASS SIZE                      0.376290\n",
      "SIZE OF SMALLEST CLASS                  0.216802\n",
      "SIZE OF LARGEST CLASS                   0.314270\n",
      "SCHOOLWIDE PUPIL-TEACHER RATIO               NaN\n",
      "schoolyear                                   NaN\n",
      "fl_percent                                   NaN\n",
      "frl_percent                            -0.676980\n",
      "total_enrollment                        0.421192\n",
      "                                          ...   \n",
      "aca_p_11                                0.024334\n",
      "saf_t_11                                0.329018\n",
      "com_t_11                                0.083086\n",
      "eng_t_11                                0.040145\n",
      "aca_t_11                                0.142014\n",
      "saf_s_11                                0.367148\n",
      "com_s_11                                0.197983\n",
      "eng_s_11                                0.238520\n",
      "aca_s_11                                0.343080\n",
      "saf_tot_11                              0.337194\n",
      "com_tot_11                              0.079245\n",
      "eng_tot_11                              0.105424\n",
      "aca_tot_11                              0.191625\n",
      "grade_span_min                         -0.014937\n",
      "grade_span_max                               NaN\n",
      "expgrade_span_min                            NaN\n",
      "expgrade_span_max                            NaN\n",
      "postcode                               -0.033971\n",
      "total_students                          0.460646\n",
      "number_programs                         0.134403\n",
      "priority08                                   NaN\n",
      "priority09                                   NaN\n",
      "priority10                                   NaN\n",
      "Community Board                        -0.059206\n",
      "Council District                       -0.061451\n",
      "Census Tract                            0.054875\n",
      "BIN                                     0.079725\n",
      "BBL                                     0.072564\n",
      "lat                                    -0.134572\n",
      "lon                                    -0.120055\n",
      "Name: sat_score, Length: 85, dtype: float64\n"
     ]
    }
   ],
   "source": [
    "correlations= combined.corr()\n",
    "print(correlations[\"sat_score\"]) #The correlation of data with 'sat_score'"
   ]
  },
  {
   "cell_type": "markdown",
   "metadata": {},
   "source": [
    "'total_enrollment' has strong correlation with 'sat_score'."
   ]
  },
  {
   "cell_type": "code",
   "execution_count": 31,
   "metadata": {},
   "outputs": [
    {
     "data": {
      "text/plain": [
       "<Figure size 640x480 with 1 Axes>"
      ]
     },
     "metadata": {},
     "output_type": "display_data"
    }
   ],
   "source": [
    "import matplotlib.pyplot as plt\n",
    "\n",
    "combined.plot.scatter(x=\"total_enrollment\", y=\"sat_score\")\n",
    "plt.show()"
   ]
  },
  {
   "cell_type": "code",
   "execution_count": 32,
   "metadata": {},
   "outputs": [
    {
     "name": "stdout",
     "output_type": "stream",
     "text": [
      "0    HENRY STREET SCHOOL FOR INTERNATIONAL\n",
      "1      UNIVERSITY NEIGHBORHOOD HIGH SCHOOL\n",
      "2               EAST SIDE COMMUNITY SCHOOL\n",
      "3                  MARTA VALLE HIGH SCHOOL\n",
      "4    NEW EXPLORATIONS INTO SCIENCE  TECHNO\n",
      "Name: School Name, dtype: object\n"
     ]
    }
   ],
   "source": [
    "# If we select the low values of two of the columns, correlation will be dropped.\n",
    "low_enrollment=combined[combined[\"total_enrollment\"]<1000] \n",
    "low_enrollment=combined[combined[\"sat_score\"]<1000]\n",
    "print(low_enrollment[\"School Name\"].head())"
   ]
  },
  {
   "cell_type": "code",
   "execution_count": 33,
   "metadata": {},
   "outputs": [
    {
     "data": {
      "image/png": "[encoded data removed]",
      "text/plain": [
       "<Figure size 432x288 with 1 Axes>"
      ]
     },
     "metadata": {
      "needs_background": "light"
     },
     "output_type": "display_data"
    }
   ],
   "source": [
    "combined.plot.scatter(x=\"ell_percent\", y=\"sat_score\")\n",
    "plt.show()"
   ]
  },
  {
   "cell_type": "markdown",
   "metadata": {},
   "source": [
    "English language learners drop the sat scores. When we look at the table, the scatter plot is linear and it shows that 'ell_percent' is strongly correlates with 'sat_scores'."
   ]
  },
  {
   "cell_type": "markdown",
   "metadata": {},
   "source": [
    "### Mapping the School Distribution in New York City"
   ]
  },
  {
   "cell_type": "markdown",
   "metadata": {},
   "source": [
    "We can show the schools' locations on the map in New York City. "
   ]
  },
  {
   "cell_type": "code",
   "execution_count": 34,
   "metadata": {},
   "outputs": [
    {
     "name": "stdout",
     "output_type": "stream",
     "text": [
      "Collecting package metadata (repodata.json): ...working... done\n",
      "Solving environment: ...working... done\n",
      "\n",
      "## Package Plan ##\n",
      "\n",
      "  environment location: C:\\Users\\user\\Anaconda3\n",
      "\n",
      "  added / updated specs:\n",
      "    - basemap-data-hires\n",
      "\n",
      "\n",
      "The following packages will be downloaded:\n",
      "\n",
      "    package                    |            build\n",
      "    ---------------------------|-----------------\n",
      "    conda-4.8.2                |           py37_0         3.1 MB\n",
      "    ------------------------------------------------------------\n",
      "                                           Total:         3.1 MB\n",
      "\n",
      "The following packages will be UPDATED:\n",
      "\n",
      "  conda                                        4.8.1-py37_0 --> 4.8.2-py37_0\n",
      "\n",
      "\n",
      "\n",
      "Downloading and Extracting Packages\n",
      "\n",
      "conda-4.8.2          | 3.1 MB    |            |   0% \n",
      "conda-4.8.2          | 3.1 MB    |            |   1% \n",
      "conda-4.8.2          | 3.1 MB    | #          |  10% \n",
      "conda-4.8.2          | 3.1 MB    | #7         |  17% \n",
      "conda-4.8.2          | 3.1 MB    | ##3        |  24% \n",
      "conda-4.8.2          | 3.1 MB    | ###3       |  34% \n",
      "conda-4.8.2          | 3.1 MB    | ####3      |  43% \n",
      "conda-4.8.2          | 3.1 MB    | #####1     |  52% \n",
      "conda-4.8.2          | 3.1 MB    | #####9     |  60% \n",
      "conda-4.8.2          | 3.1 MB    | ######7    |  68% \n",
      "conda-4.8.2          | 3.1 MB    | #######5   |  76% \n",
      "conda-4.8.2          | 3.1 MB    | ########3  |  84% \n",
      "conda-4.8.2          | 3.1 MB    | #########1 |  91% \n",
      "conda-4.8.2          | 3.1 MB    | ########## | 100% \n",
      "Preparing transaction: ...working... done\n",
      "Verifying transaction: ...working... done\n",
      "Executing transaction: ...working... done\n",
      "\n",
      "Note: you may need to restart the kernel to use updated packages.\n"
     ]
    }
   ],
   "source": [
    "conda install basemap-data-hires"
   ]
  },
  {
   "cell_type": "code",
   "execution_count": 35,
   "metadata": {},
   "outputs": [
    {
     "data": {
      "image/png": "[encoded data removed]",
      "text/plain": [
       "<Figure size 432x288 with 1 Axes>"
      ]
     },
     "metadata": {},
     "output_type": "display_data"
    }
   ],
   "source": [
    "longitudes= combined[\"lon\"].tolist()\n",
    "latitudes= combined[\"lat\"].tolist()\n",
    "import os\n",
    "os.environ[\"PROJ_LIB\"] = \"C:\\\\Users\\\\user\\\\Anaconda3\\\\pkgs\\\\proj4-5.2.0-ha925a31_1\\\\Library\\\\share\"\n",
    "\n",
    "from mpl_toolkits.basemap import Basemap\n",
    "m = Basemap(\n",
    "    projection='merc', \n",
    "    llcrnrlat=40.496044, \n",
    "    urcrnrlat=40.915256, \n",
    "    llcrnrlon=-74.255735, \n",
    "    urcrnrlon=-73.700272,\n",
    "    resolution='i'\n",
    ")\n",
    "m.drawmapboundary(fill_color='#85A6D9')\n",
    "m.drawcoastlines(color='#6D5F47', linewidth=.4)\n",
    "m.drawrivers(color='#6D5F47', linewidth=.4)\n",
    "m.scatter(longitudes,latitudes,s=20,zorder=2, latlon=True)\n",
    "plt.show()\n"
   ]
  },
  {
   "cell_type": "markdown",
   "metadata": {},
   "source": [
    "We have plotted school locations on map. And we can see that there are higher a lot of school in Manhattan. However, there are schools in Brooklyn, the Bronx, Queens, and Staten Island less than Manhattan. As we remember, there is a high correlation with english learners' school and their sat scores. We can observe these schools on the map.  "
   ]
  },
  {
   "cell_type": "code",
   "execution_count": 36,
   "metadata": {},
   "outputs": [
    {
     "data": {
      "image/png": "[encoded data removed]",
      "text/plain": [
       "<Figure size 432x288 with 1 Axes>"
      ]
     },
     "metadata": {},
     "output_type": "display_data"
    }
   ],
   "source": [
    "m = Basemap(\n",
    "    projection='merc', \n",
    "    llcrnrlat=40.496044, \n",
    "    urcrnrlat=40.915256, \n",
    "    llcrnrlon=-74.255735, \n",
    "    urcrnrlon=-73.700272,\n",
    "    resolution='i'\n",
    ")\n",
    "m.drawmapboundary(fill_color='#85A6D9')\n",
    "m.drawcoastlines(color='#6D5F47', linewidth=.4)\n",
    "m.drawrivers(color='#6D5F47', linewidth=.4)\n",
    "\n",
    "m.scatter(longitudes,latitudes,s=20, zorder=2, latlon=True,c=combined[\"ell_percent\"],cmap=\"summer\")\n",
    "plt.show()"
   ]
  },
  {
   "cell_type": "markdown",
   "metadata": {},
   "source": [
    "The yellow points show the schools which has high number of  english language learners. The green points show the schools which has low number of english language learners. As we can see from the map, especially, the english language learners have a big persent in Manhattan. On the other hand, we can not be sure about the percentages of English language learners for per district. Let's try to be sure;"
   ]
  },
  {
   "cell_type": "code",
   "execution_count": 37,
   "metadata": {},
   "outputs": [
    {
     "name": "stdout",
     "output_type": "stream",
     "text": [
      "  school_dist  SAT Critical Reading Avg. Score  SAT Math Avg. Score  \\\n",
      "0          01                       441.833333           473.333333   \n",
      "1          02                       426.619092           444.186256   \n",
      "2          03                       428.529851           437.997512   \n",
      "3          04                       402.142857           416.285714   \n",
      "4          05                       427.159915           438.236674   \n",
      "\n",
      "   SAT Writing Avg. Score   sat_score  AP Test Takers   Total Exams Taken  \\\n",
      "0              439.333333  473.333333       116.681090         173.019231   \n",
      "1              424.832836  444.186256       128.908454         201.516827   \n",
      "2              426.915672  437.997512       156.183494         244.522436   \n",
      "3              405.714286  416.285714       129.016484         183.879121   \n",
      "4              419.666098  438.236674        85.722527         115.725275   \n",
      "\n",
      "   Number of Exams with scores 3 4 or 5  Total Cohort  \\\n",
      "0                            135.800000     93.500000   \n",
      "1                            157.495833    158.647849   \n",
      "2                            193.087500    183.384409   \n",
      "3                            151.035714    113.857143   \n",
      "4                            142.464286    143.677419   \n",
      "\n",
      "   Total Grads - % of cohort  ...  priority08  priority09  priority10  \\\n",
      "0                  71.333333  ...         0.0         0.0         0.0   \n",
      "1                  75.453574  ...         0.0         0.0         0.0   \n",
      "2                  74.029937  ...         0.0         0.0         0.0   \n",
      "3                  76.257143  ...         0.0         0.0         0.0   \n",
      "4                  75.200881  ...         0.0         0.0         0.0   \n",
      "\n",
      "   Community Board  Council District  Census Tract           BIN  \\\n",
      "0         3.000000          1.500000   1106.833333  1.004144e+06   \n",
      "1         4.204005          2.963296   1132.479744  1.103862e+06   \n",
      "2         7.500000          6.500000    166.666667  1.034931e+06   \n",
      "3        11.000000          8.000000   2637.000000  1.055874e+06   \n",
      "4         9.428571          8.142857   9372.571429  1.063080e+06   \n",
      "\n",
      "            BBL        lat        lon  \n",
      "0  1.003302e+09  40.719022 -73.982377  \n",
      "1  1.070438e+09  40.739699 -73.991386  \n",
      "2  1.012833e+09  40.781574 -73.977370  \n",
      "3  1.016681e+09  40.793449 -73.943215  \n",
      "4  1.019721e+09  40.817077 -73.949251  \n",
      "\n",
      "[5 rows x 86 columns]\n"
     ]
    }
   ],
   "source": [
    "districts=combined.groupby(\"school_dist\").agg(numpy.mean)\n",
    "districts.reset_index([\"school_dist\"],inplace=True)\n",
    "print(districts.head())\n"
   ]
  },
  {
   "cell_type": "markdown",
   "metadata": {},
   "source": [
    "With the 'districts' data set, we can obtain more clear map that shows the density of the english language learners for per district. The yellow points might show the highest percentages and the green ones might show the lowest percentages."
   ]
  },
  {
   "cell_type": "code",
   "execution_count": 38,
   "metadata": {},
   "outputs": [
    {
     "data": {
      "image/png": "[encoded data removed]",
      "text/plain": [
       "<Figure size 432x288 with 1 Axes>"
      ]
     },
     "metadata": {},
     "output_type": "display_data"
    }
   ],
   "source": [
    "m.drawmapboundary(fill_color='#85A6D9')\n",
    "m.drawcoastlines(color='#6D5F47', linewidth=.4)\n",
    "m.drawrivers(color='#6D5F47', linewidth=.4)\n",
    "longitudes=districts[\"lon\"].tolist()\n",
    "latitudes= districts[\"lat\"].tolist()\n",
    "m.scatter(longitudes,latitudes, s=50, zorder=2, latlon=2, c=districts[\"ell_percent\"],cmap=\"summer\")\n",
    "plt.show()"
   ]
  },
  {
   "cell_type": "markdown",
   "metadata": {},
   "source": [
    "### Plotting Survey Correlations"
   ]
  },
  {
   "cell_type": "markdown",
   "metadata": {},
   "source": [
    "We will use the survey data to understand the specific factors which effect the SAT scores. First, we can start by plotting the correlation of these two data."
   ]
  },
  {
   "cell_type": "code",
   "execution_count": 39,
   "metadata": {},
   "outputs": [],
   "source": [
    "survey_fields.remove(\"DBN\")"
   ]
  },
  {
   "cell_type": "code",
   "execution_count": 40,
   "metadata": {},
   "outputs": [
    {
     "data": {
      "text/plain": [
       "<matplotlib.axes._subplots.AxesSubplot at 0x20600499828>"
      ]
     },
     "execution_count": 40,
     "metadata": {},
     "output_type": "execute_result"
    },
    {
     "data": {
      "image/png": "[encoded data removed]",
      "text/plain": [
       "<Figure size 432x288 with 1 Axes>"
      ]
     },
     "metadata": {
      "needs_background": "light"
     },
     "output_type": "display_data"
    }
   ],
   "source": [
    "%matplotlib inline\n",
    "combined.corr()[\"sat_score\"][survey_fields].plot.bar()"
   ]
  },
  {
   "cell_type": "markdown",
   "metadata": {},
   "source": [
    "We can observe that there are high correlation with 'N_s', 'N_t', and 'N_p' columns. You can find the description of columns from [here](https://data.cityofnewyork.us/api/views/mnz3-dyi8/files/aa68d821-4dbb-4eb2-9448-3d8cbbad5044?download=true&filename=Survey%20Data%20Dictionary.xls).\n",
    "<br>\n",
    "We see negative correlation with 'com_p_11' and 'n_t' columns.\n"
   ]
  },
  {
   "cell_type": "markdown",
   "metadata": {},
   "source": [
    "### Plotting Safety"
   ]
  },
  {
   "cell_type": "code",
   "execution_count": 41,
   "metadata": {},
   "outputs": [
    {
     "data": {
      "text/plain": [
       "<matplotlib.axes._subplots.AxesSubplot at 0x20601139da0>"
      ]
     },
     "execution_count": 41,
     "metadata": {},
     "output_type": "execute_result"
    },
    {
     "data": {
      "image/png": "[encoded data removed]",
      "text/plain": [
       "<Figure size 432x288 with 1 Axes>"
      ]
     },
     "metadata": {
      "needs_background": "light"
     },
     "output_type": "display_data"
    }
   ],
   "source": [
    "combined.plot.scatter(\"saf_s_11\", \"sat_score\")"
   ]
  },
  {
   "cell_type": "code",
   "execution_count": 42,
   "metadata": {},
   "outputs": [
    {
     "data": {
      "image/png": "[encoded data removed]",
      "text/plain": [
       "<Figure size 432x288 with 1 Axes>"
      ]
     },
     "metadata": {},
     "output_type": "display_data"
    }
   ],
   "source": [
    "# Let's take a look these variables on a map\n",
    "m.drawmapboundary(fill_color='#85A6D9')\n",
    "m.drawcoastlines(color='#6D5F47', linewidth=.4)\n",
    "m.drawrivers(color='#6D5F47', linewidth=.4)\n",
    "longitudes = districts[\"lon\"].tolist()\n",
    "latitudes = districts[\"lat\"].tolist()\n",
    "m.scatter(longitudes, latitudes, s=50, zorder=2, latlon=True, c=districts[\"saf_s_11\"], cmap=\"summer\")\n",
    "plt.show()"
   ]
  },
  {
   "cell_type": "markdown",
   "metadata": {},
   "source": [
    "The yellow regions more secure than green regions."
   ]
  },
  {
   "cell_type": "markdown",
   "metadata": {},
   "source": [
    "### The Effect of Race Differences"
   ]
  },
  {
   "cell_type": "markdown",
   "metadata": {},
   "source": [
    "The other interesting subtitle to see is the effect of race differences on SAT scores."
   ]
  },
  {
   "cell_type": "code",
   "execution_count": 43,
   "metadata": {},
   "outputs": [
    {
     "data": {
      "text/plain": [
       "<matplotlib.axes._subplots.AxesSubplot at 0x20601258780>"
      ]
     },
     "execution_count": 43,
     "metadata": {},
     "output_type": "execute_result"
    },
    {
     "data": {
      "image/png": "[encoded data removed]",
      "text/plain": [
       "<Figure size 432x288 with 1 Axes>"
      ]
     },
     "metadata": {
      "needs_background": "light"
     },
     "output_type": "display_data"
    }
   ],
   "source": [
    "race_fields = [\"white_per\", \"asian_per\", \"black_per\", \"hispanic_per\"]\n",
    "combined.corr()[\"sat_score\"][race_fields].plot.bar()"
   ]
  },
  {
   "cell_type": "markdown",
   "metadata": {},
   "source": [
    "The schools which have high percentage of white or asian students, has high positive correlation with SAT scores. But the other schools with high percentage of black or hispanic, has negative correlation with SAT scores."
   ]
  },
  {
   "cell_type": "code",
   "execution_count": 44,
   "metadata": {},
   "outputs": [
    {
     "data": {
      "text/plain": [
       "<matplotlib.axes._subplots.AxesSubplot at 0x206012b9dd8>"
      ]
     },
     "execution_count": 44,
     "metadata": {},
     "output_type": "execute_result"
    },
    {
     "data": {
      "image/png": "[encoded data removed]",
      "text/plain": [
       "<Figure size 432x288 with 1 Axes>"
      ]
     },
     "metadata": {
      "needs_background": "light"
     },
     "output_type": "display_data"
    }
   ],
   "source": [
    "combined.plot.scatter(\"hispanic_per\", \"sat_score\")"
   ]
  },
  {
   "cell_type": "code",
   "execution_count": 45,
   "metadata": {},
   "outputs": [
    {
     "name": "stdout",
     "output_type": "stream",
     "text": [
      "44                         MANHATTAN BRIDGES HIGH SCHOOL\n",
      "82      WASHINGTON HEIGHTS EXPEDITIONARY LEARNING SCHOOL\n",
      "89     GREGORIO LUPERON HIGH SCHOOL FOR SCIENCE AND M...\n",
      "125                  ACADEMY FOR LANGUAGE AND TECHNOLOGY\n",
      "141                INTERNATIONAL SCHOOL FOR LIBERAL ARTS\n",
      "176     PAN AMERICAN INTERNATIONAL HIGH SCHOOL AT MONROE\n",
      "253                            MULTICULTURAL HIGH SCHOOL\n",
      "286               PAN AMERICAN INTERNATIONAL HIGH SCHOOL\n",
      "Name: SCHOOL NAME, dtype: object\n"
     ]
    }
   ],
   "source": [
    "print(combined[combined[\"hispanic_per\"] > 95][\"SCHOOL NAME\"])"
   ]
  },
  {
   "cell_type": "markdown",
   "metadata": {},
   "source": [
    "### Gender Differences "
   ]
  },
  {
   "cell_type": "code",
   "execution_count": 46,
   "metadata": {},
   "outputs": [
    {
     "data": {
      "text/plain": [
       "<matplotlib.axes._subplots.AxesSubplot at 0x20601321438>"
      ]
     },
     "execution_count": 46,
     "metadata": {},
     "output_type": "execute_result"
    },
    {
     "data": {
      "image/png": "[encoded data removed]",
      "text/plain": [
       "<Figure size 432x288 with 1 Axes>"
      ]
     },
     "metadata": {
      "needs_background": "light"
     },
     "output_type": "display_data"
    }
   ],
   "source": [
    "gender_fields = [\"male_per\", \"female_per\"]\n",
    "combined.corr()[\"sat_score\"][gender_fields].plot.bar()"
   ]
  },
  {
   "cell_type": "markdown",
   "metadata": {},
   "source": [
    "The correlations are not strong. The schools which have higher percentage of female have positive correlation with SAT scores. Nevertheless, The schools which have higher pecentage of male have negative correlation."
   ]
  },
  {
   "cell_type": "code",
   "execution_count": 47,
   "metadata": {},
   "outputs": [
    {
     "data": {
      "text/plain": [
       "<matplotlib.axes._subplots.AxesSubplot at 0x20601378828>"
      ]
     },
     "execution_count": 47,
     "metadata": {},
     "output_type": "execute_result"
    },
    {
     "data": {
      "image/png": "[encoded data removed]",
      "text/plain": [
       "<Figure size 432x288 with 1 Axes>"
      ]
     },
     "metadata": {
      "needs_background": "light"
     },
     "output_type": "display_data"
    }
   ],
   "source": [
    "combined.plot.scatter(\"female_per\", \"sat_score\")"
   ]
  },
  {
   "cell_type": "code",
   "execution_count": 48,
   "metadata": {},
   "outputs": [
    {
     "data": {
      "text/plain": [
       "<matplotlib.axes._subplots.AxesSubplot at 0x206013cbac8>"
      ]
     },
     "execution_count": 48,
     "metadata": {},
     "output_type": "execute_result"
    },
    {
     "data": {
      "image/png": "[encoded data removed]",
      "text/plain": [
       "<Figure size 432x288 with 1 Axes>"
      ]
     },
     "metadata": {
      "needs_background": "light"
     },
     "output_type": "display_data"
    }
   ],
   "source": [
    "combined.plot.scatter(\"male_per\", \"sat_score\")"
   ]
  },
  {
   "cell_type": "markdown",
   "metadata": {},
   "source": [
    "### The effect of AP Exams"
   ]
  },
  {
   "cell_type": "markdown",
   "metadata": {},
   "source": [
    "Lastly, we can explore the effect of AP scores on SAT scores.  There are different columns under AP scores subjects. We can make easy to calculate the correlation with using 'total_enrollment' and at least one AP exam takers."
   ]
  },
  {
   "cell_type": "code",
   "execution_count": 49,
   "metadata": {},
   "outputs": [],
   "source": [
    "combined[\"ap_per\"] = combined[\"AP Test Takers \"] / combined[\"total_enrollment\"]"
   ]
  },
  {
   "cell_type": "code",
   "execution_count": 50,
   "metadata": {},
   "outputs": [
    {
     "data": {
      "text/plain": [
       "<matplotlib.axes._subplots.AxesSubplot at 0x20601441160>"
      ]
     },
     "execution_count": 50,
     "metadata": {},
     "output_type": "execute_result"
    },
    {
     "data": {
      "image/png": "[encoded data removed]",
      "text/plain": [
       "<Figure size 432x288 with 1 Axes>"
      ]
     },
     "metadata": {
      "needs_background": "light"
     },
     "output_type": "display_data"
    }
   ],
   "source": [
    "combined.plot.scatter(x='ap_per', y='sat_score')"
   ]
  },
  {
   "cell_type": "markdown",
   "metadata": {},
   "source": [
    "## Conclusion"
   ]
  },
  {
   "cell_type": "markdown",
   "metadata": {},
   "source": [
    "We tried to understand relationships between SAT scores and other specific factors for high schools in New York City. There are English language learners in Manhattan more than other districts. Manhattan is seem more secure than others. \n",
    "<br>\n",
    "The schools, which have white or asian students more, are more successful than other school, which have hispanic or black students more, in SAT scores.\n",
    "<br>\n",
    "The school with high percentage of female are a little more succesfull in SAT exams.\n",
    "\n"
   ]
  }
 ],
 "metadata": {
  "kernelspec": {
   "display_name": "Python 3",
   "language": "python",
   "name": "python3"
  },
  "language_info": {
   "codemirror_mode": {
    "name": "ipython",
    "version": 3
   },
   "file_extension": ".py",
   "mimetype": "text/x-python",
   "name": "python",
   "nbconvert_exporter": "python",
   "pygments_lexer": "ipython3",
   "version": "3.7.3"
  }
 },
 "nbformat": 4,
 "nbformat_minor": 2
}
